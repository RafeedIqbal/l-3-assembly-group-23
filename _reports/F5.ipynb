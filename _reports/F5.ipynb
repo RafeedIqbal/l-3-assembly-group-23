{
 "cells": [
  {
   "cell_type": "markdown",
   "id": "f9ffdec9-9fcb-4a7b-910e-abecc6352210",
   "metadata": {},
   "source": [
    "- Authors:\n",
    "  - Cameron Dunn, dunnc11@mcmaster.ca\n",
    "  - Rafeed Iqbal, iqbalr8@mcmaster.ca\n",
    "- Group ID on Avenue: 23\n",
    "- Gitlab URL: https://gitlab.cas.mcmaster.ca/dunnc11/l-3-assembly-group-23"
   ]
  },
  {
   "cell_type": "markdown",
   "id": "fd79bdf0",
   "metadata": {},
   "source": [
    "# F5"
   ]
  },
  {
   "cell_type": "markdown",
   "source": [
    "## Unbounded data structures in Pep9\n",
    "In Pep/9 unbounded data structures like lists and arrays would need to be managed using dynamic memory allocation. This involves allocating memory for a data structure as needed, rather than pre-allocating a fixed amount of memory at the beginning. This allows for unbounded data structures that can grow and shrink as needed, without running out of memory.\n",
    "\n",
    "To dynamically allocate memory for the data structure, the assembly code can call a memory allocation function, passing in the size of the memory block needed for the data structure. The function will then return a pointer to the allocated memory block, which can be used to store the data structure.\n",
    "\n",
    "The assembly code can use pointers to reference and access the elements of the data structure, allowing it to manipulate the data structure even when it is unbounded. When the data structure is no longer needed, the assembly code can call a memory de-allocation function to free up the memory that was previously allocated for the data structure."
   ],
   "metadata": {
    "collapsed": false
   }
  },
  {
   "cell_type": "markdown",
   "id": "c86c7477",
   "metadata": {},
   "source": []
  }
 ],
 "metadata": {
  "kernelspec": {
   "display_name": "Python 3.10.8 ('l-3-assembly-group-23-fS6LRYK8')",
   "language": "python",
   "name": "python3"
  },
  "language_info": {
   "codemirror_mode": {
    "name": "ipython",
    "version": 3
   },
   "file_extension": ".py",
   "mimetype": "text/x-python",
   "name": "python",
   "nbconvert_exporter": "python",
   "pygments_lexer": "ipython3",
   "version": "3.10.8"
  },
  "vscode": {
   "interpreter": {
    "hash": "3e226375c2b5a8c1d2795c62591d63c2eea52cc6cc490906c140a16c848b11c7"
   }
  }
 },
 "nbformat": 4,
 "nbformat_minor": 5
}
