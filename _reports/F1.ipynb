{
 "cells": [
  {
   "cell_type": "markdown",
   "id": "f9ffdec9-9fcb-4a7b-910e-abecc6352210",
   "metadata": {},
   "source": [
    "- Authors:\n",
    "  - Cameron Dunn, dunnc11@mcmaster.ca\n",
    "  - Rafeed Iqbal, iqbalr8@mcmaster.ca\n",
    "- Group ID on Avenue: 23\n",
    "- Gitlab URL: https://gitlab.cas.mcmaster.ca/dunnc11/l-3-assembly-group-23"
   ]
  },
  {
   "cell_type": "markdown",
   "id": "fd79bdf0",
   "metadata": {},
   "source": [
    "# F1"
   ]
  },
  {
   "cell_type": "markdown",
   "id": "fafb35ad",
   "metadata": {},
   "source": [
    "## What are 'Global Variable' as defined by the code\n",
    "The code considers global variables to be any variables explicitly defined in the top level program, outside of any function definition. For any chosen variable if it is not nested, it is a global variable."
   ]
  },
  {
   "cell_type": "markdown",
   "id": "b3f57657",
   "metadata": {},
   "source": [
    "## Why NOP1 instructions?\n",
    "NOPn instructions are unary 'no-operation' instructions. The instruction is similar to pass in Python. It is used in the visitor TopLevelProgram.py, a visitor used in translator.py. The NOP1 instruction acts as start and end markers for the tree traversal."
   ]
  },
  {
   "cell_type": "markdown",
   "id": "9a74e368",
   "metadata": {},
   "source": [
    "## Roles of Visitors and Generators\n",
    "The visitors and translator use the AST library. The visit function traverses the tree, and in the visitor we override the visit_XXX functions to create instructions.\n",
    "\n",
    "GlobalVariable.py is a visitor which traverses the AST and adds nodes where a global variable is defined to a set, and pass all others. The generator StaticMemoryAllocation.py uses the resulting set to write pep9 code which allocates memory to every global variable used in the program. This visitor and generator pair is run first.\n",
    "\n",
    "To generate code for the rest of the program, the visitor TopLevelProgram.py is run first. It also traverses the AST, however it also adds the respective Pep9 instruction for the node to a list of instruction. The generator EntryPoint then goes through the list and writes the instructions in the list to file in order."
   ]
  },
  {
   "cell_type": "markdown",
   "id": "12dd7239",
   "metadata": {},
   "source": [
    "## Limitations of given code\n",
    "The given translator can only translate simple programs using its visitors and generators. Not every visit_XXX function is defined, and the ones that are defined are not optimal/functional in all cases. The code is unable to handle conditional statements, use data structures like arrays, have defined functions and call them, etc. as visitors are not defined for these node types. Some given visitors are also limited. Variables with names longer than 8 characters cannot be defined, memory is allocated using BLOCK2 instead of WORD n, no anonymous assignments, no support for constant variables, and so on."
   ]
  },
  {
   "cell_type": "markdown",
   "id": "0639832f",
   "metadata": {},
   "source": [
    "```\n",
    "add_sub.pep\n",
    "         BR      program \n",
    "UNIV:            .WORD 42 \n",
    "value:           .BLOCK 2\n",
    "result:          .BLOCK 2\n",
    "variable:        .BLOCK 2\n",
    "program: DECI     value,d\n",
    "         LDWA     value,d\n",
    "         ADDA     UNIV,d\n",
    "         STWA     result,d\n",
    "         LDWA     3,i\n",
    "         STWA     variable,d\n",
    "         LDWA     result,d        \n",
    "         SUBA     variable,d\n",
    "         STWA     result,d\n",
    "         LDWA     result,d\n",
    "         SUBA     1,i\n",
    "         STWA     result,d\n",
    "         DECO     result,d\n",
    "         LDBA     '\\n',i\n",
    "         STBA     charOut,d\n",
    "         .END\n",
    "```\n"
   ]
  },
  {
   "cell_type": "markdown",
   "id": "0ae59127",
   "metadata": {},
   "source": [
    "```\n",
    "simple.pep\n",
    "         BR      program \n",
    "x:       .BLOCK 2\n",
    "program: LDWA    3,i\n",
    "         ADDA    2,i\n",
    "         STWA    x,d\n",
    "         DECO    x,d\n",
    "         LDBA    '\\n',i\n",
    "         STBA    charOut,d\n",
    "         .END\n",
    "```"
   ]
  }
 ],
 "metadata": {
  "kernelspec": {
   "display_name": "Python 3 (ipykernel)",
   "language": "python",
   "name": "python3"
  },
  "language_info": {
   "codemirror_mode": {
    "name": "ipython",
    "version": 3
   },
   "file_extension": ".py",
   "mimetype": "text/x-python",
   "name": "python",
   "nbconvert_exporter": "python",
   "pygments_lexer": "ipython3",
   "version": "3.10.8"
  },
  "vscode": {
   "interpreter": {
    "hash": "3e226375c2b5a8c1d2795c62591d63c2eea52cc6cc490906c140a16c848b11c7"
   }
  }
 },
 "nbformat": 4,
 "nbformat_minor": 5
}
