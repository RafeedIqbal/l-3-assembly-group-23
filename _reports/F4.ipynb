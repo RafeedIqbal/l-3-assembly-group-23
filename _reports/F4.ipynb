{
 "cells": [
  {
   "cell_type": "markdown",
   "id": "f9ffdec9-9fcb-4a7b-910e-abecc6352210",
   "metadata": {},
   "source": [
    "- Authors:\n",
    "  - Cameron Dunn, dunnc11@mcmaster.ca\n",
    "  - Rafeed Iqbal, iqbalr8@mcmaster.ca\n",
    "- Group ID on Avenue: 23\n",
    "- Gitlab URL: https://gitlab.cas.mcmaster.ca/dunnc11/l-3-assembly-group-23"
   ]
  },
  {
   "cell_type": "markdown",
   "id": "fd79bdf0",
   "metadata": {},
   "source": [
    "# F4"
   ]
  },
  {
   "cell_type": "markdown",
   "metadata": {
    "collapsed": false
   },
   "source": [
    "## Ranking complexity of translation for the given examples:\n",
    "The simplest example would be call_void, it is a simple function with no parameters. More complex than that is call_param, it takes in a parameter to be called. More complex than that is call_return, which takes in a parameter and returns a value when called, which needs to handled when translating. Moving on, fibonacci is more complex as it has a while loop in the body, followed by factorial which has both conditionals and function calls within the body. Fib rec and factorial rec are the most complex as they have all the complexities of the previous programs, alongside recursive calls which the compiler needs to keep track of on the stack."
   ]
  },
  {
   "attachments": {},
   "cell_type": "markdown",
   "id": "8e0aa3cb",
   "metadata": {
    "collapsed": false
   },
   "source": [
    "## Translation for call_param.py, call_return.py and call_void.py:\n",
    "call_param.pep:\n",
    "```\n",
    "         BR      program\n",
    "x:       .BLOCK 2\n",
    "result:  .BLOCK 2                        \n",
    "_UNIV:   .EQUATE 42          \n",
    "value:   .EQUATE 2           ;value #2d\n",
    "my_func: LDWA 2,s\n",
    "         ADDA _UNIV,i\n",
    "         STWA result,d \n",
    "         DECO result,d\n",
    "         RET\n",
    "program: SUBSP 2,i           ;Allocate #value \n",
    "         DECI x,d\n",
    "         LDWA x,d\n",
    "         STWA 0,s\n",
    "         CALL my_func\n",
    "         .END\n",
    "```\n",
    "call_return.pep:\n",
    "```\n",
    "         BR      program\n",
    "_UNIV:   .EQUATE 42\n",
    "x:       .BLOCK 2\n",
    "result:  .BLOCK 2\n",
    "retVal:  .EQUATE 2           ;return #2d\n",
    "value:   .EQUATE 0           ;value #2d\n",
    "\n",
    "my_func: LDWA 4,s\n",
    "         ADDA _UNIV,i\n",
    "         STWA retVal,s\n",
    "         RET\n",
    "program: SUBSP 2,i           ; push #value\n",
    "         DECI x,d\n",
    "         LDWA x,d\n",
    "         STWA value,s\n",
    "         SUBSP 2,i           ; push #retVal\n",
    "         CALL my_func\n",
    "         LDWA 0,s\n",
    "         STWA result,d\n",
    "         ADDSP 4,i           ; pop #value #retVal\n",
    "         DECO result,d\n",
    "         .END\n",
    "```\n",
    "call_void.pep:\n",
    "```\n",
    "         BR      program\n",
    "_UNIV:   .EQUATE 42\n",
    "value:   .EQUATE 0           ; value #2d\n",
    "result:  .EQUATE 2           ; result #2d\n",
    "my_func: SUBSP 4,i           ; push #result #value\n",
    "         DECI value,s\n",
    "         LDWA value,s\n",
    "         ADDA _UNIV,i\n",
    "         STWA result,s\n",
    "         DECO result,s\n",
    "         ADDSP 4,i           ; pop #result #value\n",
    "         RET\n",
    "program: CALL my_func\n",
    "         .END\n",
    "```"
   ]
  },
  {
   "cell_type": "markdown",
   "id": "11286023",
   "metadata": {
    "collapsed": false
   },
   "source": [
    "## Implementation of functions in our translator\n",
    "The translator is implemented by adding to the visitor TopLevelProgram. As there are now more node types that are visited due to functions being added, we implemented visit_functiondef, visit_return, visit_call and visit_expr. Memory also has to be allocated for the parameter, so that we can call functions by value, rather than having to pass in a pointer. We allocate memory in the generator StaticMemoryAllocation. As we iterate over the AST when we reach a function definition we generate the instructions for it, and add it alongside a label. This label can be used to call the function, and the result from the function will be properly passed through by the return. Everything is stored with SUBSP before a function then added a return value then extracted everything after. Once it is time for the value to be returned, the value is removed and the memory de-allocated to avoid overflow. As the stack is not properly utilized, the order of function calls may not work properly."
   ]
  },
  {
   "cell_type": "markdown",
   "metadata": {
    "collapsed": false
   },
   "source": [
    "## What happens if there is a 'Stack Overflow'?\n",
    "If a \"stack overflow\" occurs in a program, it means that the program has attempted to use more memory space on the stack than is available. This can happen if the program contains an infinite loop or if the program has a large number of nested function calls without proper management of the stack.\n",
    "\n",
    "In general, a stack overflow will result in the program crashing or becoming unstable. Depending on the specific circumstances, it may be possible for the program to continue running, but it will likely produce incorrect results or produce other errors.\n",
    "\n",
    "To avoid stack overflows in assembly programs, it is important to properly manage the stack and ensure that there is enough space available for all necessary function calls and data. This can be done by carefully planning the use of the stack, using stack-related instructions in the program, and properly allocating and deallocating stack space as needed."
   ]
  },
  {
   "cell_type": "markdown",
   "id": "c86c7477",
   "metadata": {},
   "source": []
  }
 ],
 "metadata": {
  "kernelspec": {
   "display_name": "Python 3.10.8 ('l-3-assembly-group-23-fS6LRYK8')",
   "language": "python",
   "name": "python3"
  },
  "language_info": {
   "codemirror_mode": {
    "name": "ipython",
    "version": 3
   },
   "file_extension": ".py",
   "mimetype": "text/x-python",
   "name": "python",
   "nbconvert_exporter": "python",
   "pygments_lexer": "ipython3",
   "version": "3.10.8"
  },
  "vscode": {
   "interpreter": {
    "hash": "3e226375c2b5a8c1d2795c62591d63c2eea52cc6cc490906c140a16c848b11c7"
   }
  }
 },
 "nbformat": 4,
 "nbformat_minor": 5
}
