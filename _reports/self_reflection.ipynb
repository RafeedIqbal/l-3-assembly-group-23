{
 "cells": [
  {
   "cell_type": "markdown",
   "id": "f9ffdec9-9fcb-4a7b-910e-abecc6352210",
   "metadata": {},
   "source": [
    "- Authors:\n",
    "  - Cameron Dunn, dunnc11@mcmaster.ca\n",
    "  - Rafeed Iqbal, iqbalr8@mcmaster.ca\n",
    "- Group ID on Avenue: 23\n",
    "- Gitlab URL: https://gitlab.cas.mcmaster.ca/dunnc11/l-3-assembly-group-23"
   ]
  },
  {
   "cell_type": "markdown",
   "source": [
    "# Self Reflections"
   ],
   "metadata": {
    "collapsed": false
   }
  },
  {
   "cell_type": "markdown",
   "id": "fd79bdf0",
   "metadata": {},
   "source": [
    "## Cameron Dunn\n",
    "### • How much did you know about the subject before we started? (backward)\n",
    "A lot of what we are doing this lab is similar to what we've done before (Assembly coding and instruction architecture in 2GA3, software design and object-oriented design patterns from 2AA4). Going into the lab I somewhat had an idea on how compilers worked, but after having completed the lab I have to say there is a lot I did not know. The lab served as a good guideline for how the Visitor pattern worked, and how high level code can be translated into assembly code.\n",
    "### • What did/do you find frustrating about this assignment? (inward)\n",
    "I found F4 and F5 to be the most frustrating. F2 and F3 could be mostly done by making slight changes to the code that was given to us, but F4 and F5 took both a lot of research beforehand, and a lot of trial and error during the coding process. There were a lot of aspects and edge cases which had to be considered, and I had to examine both the Pep9 documentation and the ASTs generated very carefully before being able to code up an aplicable solution.\n",
    "### • If you were the instructor, what comments would you make about this piece? (outward)\n",
    "If I were the instructor, I would have to say that it was expected that the work be done incrementally, and thus better time management is required. It would also add that the code should be optimal, and the visitor and generator patterns should be better utilized.\n",
    "### • What would you change if you had a chance to do this assignment over again? (forward)\n",
    "I would attempt to better manage how the work was divided. While we did work on the project incrementally, much of the progress was done towards the end, which may have affected the quality of the work being submitted. Additionally, I would have liked to have attempted the bonus problems, as I found being able to actually implement features was very fulfilling after overcoming the frustration."
   ]
  },
  {
   "cell_type": "markdown",
   "id": "042ad10a",
   "metadata": {},
   "source": [
    "## Rafeed Iqbal\n",
    "### • How much did you know about the subject before we started? (backward)\n",
    "I had a basic idea of computer architecture from 2GA3 from last year, as well as an idea of how to translate basic programs into ARM assembly code. However, most of this lab was entirely new to me. We had learned about Object oriented design patterns in 2AA4 but had not learned the visitor pattern. The example code provided helped me gain an understanding of how visitors and generators worked, as well as how python code is structured through the AST. Overall I did not know much at the beginning of the lab, but I have learnt a lot over the course of it.\n",
    "### • What did/do you find frustrating about this assignment? (inward)\n",
    "I found the Pep9 documentation to be lacking, and found myself having to scour a myriad of documents and pdfs to find an explanation for the problems I was facing. This was especially apparent when working on F5, as it was extremely confusing for me on how to properly allocate memory to the arrays, and how to differentiate between local and global declarations of arrays and how to handle the memory de-allocation.\n",
    "### • If you were the instructor, what comments would you make about this piece? (outward)\n",
    "We were given a large period of time to complete the lab, and it was meant to be done incrementally. This somewhat reflects real-world projects, where features are added over time, and work is divided reasonably. If I were the instructor I would say that it is very important to manage your time, and work on reasonable portions of work at a time. One should take a break to reflect on what progress has been made as well as take time to test thoroughly what has been implemented. This can help catch bugs, and reconcile what was asked of us with what we delivered.\n",
    "### • What would you change if you had a chance to do this assignment over again? (forward)\n",
    "One thing I would change is to make the generated code readable, the current hashing function makes the variable names unreadable, but is necessary to facilitate the translation of names larger than the 8-character limit imposed by Pep9. If possible I would like to add some way to add comments beside the code, to make it clear what is happening in each section of the generated code. Another thing I would have liked to do is implement all the features mentioned in the bonus part of the lab, but I was not even able to attempt it due to lack of time."
   ]
  },
  {
   "cell_type": "markdown",
   "id": "af6b2963",
   "metadata": {},
   "source": []
  }
 ],
 "metadata": {
  "kernelspec": {
   "display_name": "Python 3.10.8 ('l-3-assembly-group-23-fS6LRYK8')",
   "language": "python",
   "name": "python3"
  },
  "language_info": {
   "codemirror_mode": {
    "name": "ipython",
    "version": 3
   },
   "file_extension": ".py",
   "mimetype": "text/x-python",
   "name": "python",
   "nbconvert_exporter": "python",
   "pygments_lexer": "ipython3",
   "version": "3.10.8"
  },
  "vscode": {
   "interpreter": {
    "hash": "3e226375c2b5a8c1d2795c62591d63c2eea52cc6cc490906c140a16c848b11c7"
   }
  }
 },
 "nbformat": 4,
 "nbformat_minor": 5
}
