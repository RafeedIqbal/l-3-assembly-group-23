{
 "cells": [
  {
   "cell_type": "markdown",
   "id": "f9ffdec9-9fcb-4a7b-910e-abecc6352210",
   "metadata": {},
   "source": [
    "- Authors:\n",
    "  - Cameron Dunn, dunnc11@mcmaster.ca\n",
    "  - Rafeed Iqbal, iqbalr8@mcmaster.ca\n",
    "- Group ID on Avenue: 23\n",
    "- Gitlab URL: https://gitlab.cas.mcmaster.ca/dunnc11/l-3-assembly-group-23"
   ]
  },
  {
   "cell_type": "markdown",
   "id": "fd79bdf0",
   "metadata": {},
   "source": [
    "# F3"
   ]
  },
  {
   "cell_type": "markdown",
   "source": [
    "## Manual translation of gcd.py\n",
    "```\n",
    "         BR      program\n",
    "a:       .BLOCK 2\n",
    "b:       .BLOCK 2\n",
    "gcd:     LDWA a,d\n",
    "         CPWA b,d\n",
    "         BREQ end\n",
    "         BRLE else\n",
    "if:      SUBA b,d\n",
    "         STWA a,d\n",
    "         BR gcd\n",
    "else:    LDWA b,d\n",
    "         SUBA a,d\n",
    "         STWA b,d\n",
    "         BR gcd\n",
    "end:     RET\n",
    "program: DECI a,d\n",
    "         DECI b,d\n",
    "         CALL gcd\n",
    "         DECO a,d\n",
    "         .END\n",
    "```"
   ],
   "metadata": {
    "collapsed": false
   }
  },
  {
   "cell_type": "markdown",
   "source": [
    "## How if statements were implemented\n",
    "In the AST 'If-Else' statements show up as Nodes with names If and orElse. The visitor Top level program was changed to add functionality for if statements by adding the function visit_If(). It works similarly to visit_While(). It generates the instruction in the visitor in the same way, thus the generator need not be changed. The function works by iterating through the subtree after accessing the variables used by the operators. The instruction for the condition used is found from the dictionary (the conditions are inverted in the AST). The body of the statement is visited, and if there is an else statement, that is visited as well."
   ],
   "metadata": {
    "collapsed": false
   }
  },
  {
   "cell_type": "markdown",
   "id": "c86c7477",
   "metadata": {},
   "source": []
  }
 ],
 "metadata": {
  "kernelspec": {
   "display_name": "Python 3.10.8 ('l-3-assembly-group-23-fS6LRYK8')",
   "language": "python",
   "name": "python3"
  },
  "language_info": {
   "codemirror_mode": {
    "name": "ipython",
    "version": 3
   },
   "file_extension": ".py",
   "mimetype": "text/x-python",
   "name": "python",
   "nbconvert_exporter": "python",
   "pygments_lexer": "ipython3",
   "version": "3.10.8"
  },
  "vscode": {
   "interpreter": {
    "hash": "3e226375c2b5a8c1d2795c62591d63c2eea52cc6cc490906c140a16c848b11c7"
   }
  }
 },
 "nbformat": 4,
 "nbformat_minor": 5
}
